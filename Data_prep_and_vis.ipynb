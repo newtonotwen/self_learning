{
  "nbformat": 4,
  "nbformat_minor": 0,
  "metadata": {
    "colab": {
      "name": "Kuis_pekan_3.ipynb",
      "provenance": [],
      "collapsed_sections": [],
      "toc_visible": true,
      "include_colab_link": true
    },
    "kernelspec": {
      "name": "python3",
      "display_name": "Python 3"
    }
  },
  "cells": [
    {
      "cell_type": "markdown",
      "metadata": {
        "id": "view-in-github",
        "colab_type": "text"
      },
      "source": [
        "<a href=\"https://colab.research.google.com/github/newtonotwen/self_learning/blob/main/Data_prep_and_vis.ipynb\" target=\"_parent\"><img src=\"https://colab.research.google.com/assets/colab-badge.svg\" alt=\"Open In Colab\"/></a>"
      ]
    },
    {
      "cell_type": "markdown",
      "metadata": {
        "id": "Mk6qjezc8tPu"
      },
      "source": [
        "# Quiz Pekan - 3\n",
        "\n",
        "Dataset-dataset berikut ini menunjukkan persentase fat, protein, dan food yang dikonsumsi dari setiap jenis makanan yang terdaftar. Beberapa bagian akhir dataset juga mencakup persentase obesitas(Obesity), kurang gizi(Undernourished), dan kasus COVID-19 yang Terkonfirmasi(Confirmed)/Kematian(Deaths)/Sembuh(Recovered)/Aktif(Active).\n",
        "\n",
        "(Catatan: Semua data memiliki unit '%' (persen) kecuali Populasi, unit persen tersebut dihitung berdasarkan jumlah populasi).\n",
        "\n",
        "Link Download:\n",
        "\n",
        "[Food_Supply_Quantity_kg_Data.csv](https://drive.google.com/uc?export=download&id=117XKO9dYBNrrAYIma9AgYYqvotzeIr_Q)\n",
        "\n",
        "[Protein_Supply_Quantity_Data.csv](https://drive.google.com/uc?export=download&id=16fpG2AOUyu3vFHGspSGYogoUrgMvv9Vr)\n",
        "\n",
        "[Fat_Supply_Quantity_Data.csv](https://drive.google.com/uc?export=download&id=1kRrSdrOdq2oPtr_Wn3Zonp395-pW2a-t)\n",
        "\n",
        "[Supply_Food_Data_Descriptions.csv](https://drive.google.com/uc?export=download&id=1rM8_kRL4mQ9JYsilWowJKuPOYUcGUdWc)"
      ]
    },
    {
      "cell_type": "code",
      "metadata": {
        "id": "NGNbQVKm4vgv"
      },
      "source": [
        "import numpy as np\n",
        "import pandas as pd\n",
        "import matplotlib.pyplot as plt\n",
        "\n",
        "# Import Semua Data\n",
        "df_food = pd.read_csv('Food_Supply_Quantity_kg_Data.csv')\n",
        "df_protein = pd.read_csv('Protein_Supply_Quantity_Data.csv')\n",
        "df_fat = pd.read_csv('Fat_Supply_Quantity_Data.csv')\n",
        "df_category = pd.read_csv('Supply_Food_Data_Descriptions.csv')"
      ],
      "execution_count": null,
      "outputs": []
    },
    {
      "cell_type": "markdown",
      "metadata": {
        "id": "Aj2MY336-ylZ"
      },
      "source": [
        "---"
      ]
    },
    {
      "cell_type": "markdown",
      "metadata": {
        "id": "ODoHJYyWAtVd"
      },
      "source": [
        "# Soal 1 : Apakah harapan kalian saat mengikuti kelas Python Datascience dasar? "
      ]
    },
    {
      "cell_type": "markdown",
      "metadata": {
        "id": "iNhkcxxSA_9m"
      },
      "source": [
        "Dapat mengerti mengenai data science dan workflow dari data science\n"
      ]
    },
    {
      "cell_type": "markdown",
      "metadata": {
        "id": "xWD8Zh-r_TxA"
      },
      "source": [
        "# Soal 2: Memisahkan kolom pada supply dataset antara kategori makanan dan bukan makanan"
      ]
    },
    {
      "cell_type": "markdown",
      "metadata": {
        "id": "s4OM-RnaAQKl"
      },
      "source": [
        "Teman-teman diminta untuk menampilkan list kolom-kolom pada supply DataFrame dengan ketentuan sebagai berikut:\n",
        "\n",
        "*   all columns: list yang berisikan semua kolom pada supply DataFrame\n",
        "*   supply columns: list yang berisikan semua kolom pada supply DataFrame berdasarkan kolom 'Categories' pada DataFrame df_category\n",
        "*   non-supply columns: list yang berisikan semua kolom non-supply pada supply DataFrame\n"
      ]
    },
    {
      "cell_type": "code",
      "metadata": {
        "id": "8aHiCSZh5q1g",
        "colab": {
          "base_uri": "https://localhost:8080/"
        },
        "outputId": "baee248c-1edd-40e1-8f9b-99cc35b21dfb"
      },
      "source": [
        "# Example\n",
        "all_columns = df_food.columns.tolist()\n",
        "print(f'All Columns : {all_columns} \\n\\n')\n",
        "\n",
        "# Code here\n",
        "supply_columns= df_category['Categories'].tolist()\n",
        "print(f'Supply Columns: {supply_columns} \\n\\n')\n",
        "\n",
        "non_supply=[]\n",
        "\n",
        "for item in all_columns:\n",
        "  if item not in supply_columns:\n",
        "    non_supply.append(item)\n",
        "  \n",
        "print(f'non_supply: {non_supply} \\n\\n')\n",
        "\n",
        "\n"
      ],
      "execution_count": null,
      "outputs": [
        {
          "output_type": "stream",
          "text": [
            "All Columns : ['Country', 'Alcoholic Beverages', 'Animal fats', 'Animal Products', 'Aquatic Products, Other', 'Cereals - Excluding Beer', 'Eggs', 'Fish, Seafood', 'Fruits - Excluding Wine', 'Meat', 'Milk - Excluding Butter', 'Miscellaneous', 'Offals', 'Oilcrops', 'Pulses', 'Spices', 'Starchy Roots', 'Stimulants', 'Sugar & Sweeteners', 'Sugar Crops', 'Treenuts', 'Vegetable Oils', 'Vegetables', 'Vegetal Products', 'Obesity', 'Undernourished', 'Confirmed', 'Deaths', 'Recovered', 'Active', 'Population', 'Unit (all except Population)'] \n",
            "\n",
            "\n",
            "Supply Columns: ['Alcoholic Beverages', 'Animal fats', 'Animal Products', 'Aquatic Products, Other', 'Cereals - Excluding Beer', 'Eggs', 'Fish, Seafood', 'Fruits - Excluding Wine', 'Meat', 'Milk - Excluding Butter', 'Miscellaneous', 'Offals', 'Oilcrops', 'Pulses', 'Spices', 'Starchy Roots', 'Stimulants', 'Sugar & Sweeteners', 'Sugar Crops', 'Treenuts', 'Vegetable Oils', 'Vegetables', 'Vegetal Products'] \n",
            "\n",
            "\n",
            "non_supply: ['Country', 'Obesity', 'Undernourished', 'Confirmed', 'Deaths', 'Recovered', 'Active', 'Population', 'Unit (all except Population)'] \n",
            "\n",
            "\n"
          ],
          "name": "stdout"
        }
      ]
    },
    {
      "cell_type": "markdown",
      "metadata": {
        "id": "gnRBLXPZC3PD"
      },
      "source": [
        "---"
      ]
    },
    {
      "cell_type": "markdown",
      "metadata": {
        "id": "zVjfRh2xDC8g"
      },
      "source": [
        "# Soal 3: Menggabungkan DataFrame\n",
        "\n"
      ]
    },
    {
      "cell_type": "markdown",
      "metadata": {
        "id": "-xRZSuKBDYeQ"
      },
      "source": [
        "Gabungkan semua supply DataFrame dengan ketentuan tidak ada kolom dengan nama yang sama. Untuk kolom-kolom non-supply seperti tersebut di atas, memiliki nilai yang sama untuk setiap DataFrame, sehingga cukup ambil dari salah satu DataFrame. Sedangkan untuk kolom-kolom supply seperti tersebut di atas, setiap DataFrame (df_food, df_protein, df_fat) memiliki nilai yang berbeda, sehingga teman-teman perlu menambahkan suffix berdasarkan jenis supply DataFrame-nya, misalkan untuk kolom 'eggs' teman teman harus menambahkan suffix sehingga DataFrame gabungan memiliki kolom 'eggs_food', 'eggs_protein', dan 'eggs_fat'. Untuk mendapatkan gambaran lebih jelas, silahkan lihat pada expected output."
      ]
    },
    {
      "cell_type": "markdown",
      "metadata": {
        "id": "UWBJLohAKODF"
      },
      "source": [
        "List kolom-kolom DataFrame hasil gabungan adalah sebagai berikut:\n",
        "\n",
        "\n",
        "```\n",
        " ['Country', 'Alcoholic Beverages_food', 'Animal fats_food',\n",
        "  'Animal Products_food', 'Aquatic Products, Other_food',\n",
        "  'Cereals - Excluding Beer_food', 'Eggs_food', 'Fish, Seafood_food',\n",
        "  'Fruits - Excluding Wine_food', 'Meat_food',\n",
        "  'Milk - Excluding Butter_food', 'Miscellaneous_food', 'Offals_food',\n",
        "  'Oilcrops_food', 'Pulses_food', 'Spices_food', 'Starchy Roots_food',\n",
        "  'Stimulants_food', 'Sugar & Sweeteners_food', 'Sugar Crops_food',\n",
        "  'Treenuts_food', 'Vegetable Oils_food', 'Vegetables_food',\n",
        "  'Vegetal Products_food', 'Alcoholic Beverages_protein',\n",
        "  'Animal fats_protein', 'Animal Products_protein',\n",
        "  'Aquatic Products, Other_protein', 'Cereals - Excluding Beer_protein',\n",
        "  'Eggs_protein', 'Fish, Seafood_protein',\n",
        "  'Fruits - Excluding Wine_protein', 'Meat_protein',\n",
        "  'Milk - Excluding Butter_protein', 'Miscellaneous_protein',\n",
        "  'Offals_protein', 'Oilcrops_protein', 'Pulses_protein',\n",
        "  'Spices_protein', 'Starchy Roots_protein', 'Stimulants_protein',\n",
        "  'Sugar & Sweeteners_protein', 'Sugar Crops_protein', 'Treenuts_protein',\n",
        "  'Vegetable Oils_protein', 'Vegetables_protein',\n",
        "  'Vegetal Products_protein', 'Alcoholic Beverages_fat',\n",
        "  'Animal fats_fat', 'Animal Products_fat', 'Aquatic Products, Other_fat',\n",
        "  'Cereals - Excluding Beer_fat', 'Eggs_fat', 'Fish, Seafood_fat',\n",
        "  'Fruits - Excluding Wine_fat', 'Meat_fat',\n",
        "  'Milk - Excluding Butter_fat', 'Miscellaneous_fat', 'Offals_fat',\n",
        "  'Oilcrops_fat', 'Pulses_fat', 'Spices_fat', 'Starchy Roots_fat',\n",
        "  'Stimulants_fat', 'Sugar & Sweeteners_fat', 'Sugar Crops_fat',\n",
        "  'Treenuts_fat', 'Vegetable Oils_fat', 'Vegetables_fat',\n",
        "  'Vegetal Products_fat', 'Obesity', 'Undernourished', 'Confirmed',\n",
        "  'Deaths', 'Recovered', 'Active', 'Population',\n",
        "  'Unit (all except Population)']\n",
        "```"
      ]
    },
    {
      "cell_type": "code",
      "metadata": {
        "id": "v8_WdQrCFvbY"
      },
      "source": [
        "# Hint\n",
        "df_non_supply_new = df_food[non_supply]\n",
        "df_food_new = df_food[['Country']+supply_columns]\n",
        "df_protein_new = df_protein[['Country']+supply_columns]\n",
        "df_fat_new = df_fat[['Country']+supply_columns]"
      ],
      "execution_count": null,
      "outputs": []
    },
    {
      "cell_type": "code",
      "metadata": {
        "id": "u3-Bq5dQ-OiM"
      },
      "source": [
        "df= pd.merge(df_food_new, df_protein_new, how='outer', on='Country', suffixes=('_food','_protein'))"
      ],
      "execution_count": null,
      "outputs": []
    },
    {
      "cell_type": "code",
      "metadata": {
        "id": "vD_FIhapHEa6"
      },
      "source": [
        "df2= pd.merge(df, df_fat_new, how='outer', on='Country',suffixes=('_food','_fat'))"
      ],
      "execution_count": null,
      "outputs": []
    },
    {
      "cell_type": "code",
      "metadata": {
        "id": "Ov4aDG2zHZk8"
      },
      "source": [
        "df3= pd.merge(df2,df_non_supply_new, how='inner', on='Country')"
      ],
      "execution_count": null,
      "outputs": []
    },
    {
      "cell_type": "code",
      "metadata": {
        "colab": {
          "base_uri": "https://localhost:8080/",
          "height": 128
        },
        "id": "LMyYIymlH9h3",
        "outputId": "b89c13d5-1096-4472-b26a-4f6a1264fe3b"
      },
      "source": [
        "df3.loc[df3['Country']== 'Indonesia']"
      ],
      "execution_count": null,
      "outputs": [
        {
          "output_type": "execute_result",
          "data": {
            "text/html": [
              "<div>\n",
              "<style scoped>\n",
              "    .dataframe tbody tr th:only-of-type {\n",
              "        vertical-align: middle;\n",
              "    }\n",
              "\n",
              "    .dataframe tbody tr th {\n",
              "        vertical-align: top;\n",
              "    }\n",
              "\n",
              "    .dataframe thead th {\n",
              "        text-align: right;\n",
              "    }\n",
              "</style>\n",
              "<table border=\"1\" class=\"dataframe\">\n",
              "  <thead>\n",
              "    <tr style=\"text-align: right;\">\n",
              "      <th></th>\n",
              "      <th>Country</th>\n",
              "      <th>Alcoholic Beverages_food</th>\n",
              "      <th>Animal fats_food</th>\n",
              "      <th>Animal Products_food</th>\n",
              "      <th>Aquatic Products, Other_food</th>\n",
              "      <th>Cereals - Excluding Beer_food</th>\n",
              "      <th>Eggs_food</th>\n",
              "      <th>Fish, Seafood_food</th>\n",
              "      <th>Fruits - Excluding Wine_food</th>\n",
              "      <th>Meat_food</th>\n",
              "      <th>Milk - Excluding Butter_food</th>\n",
              "      <th>Miscellaneous_food</th>\n",
              "      <th>Offals_food</th>\n",
              "      <th>Oilcrops_food</th>\n",
              "      <th>Pulses_food</th>\n",
              "      <th>Spices_food</th>\n",
              "      <th>Starchy Roots_food</th>\n",
              "      <th>Stimulants_food</th>\n",
              "      <th>Sugar &amp; Sweeteners_food</th>\n",
              "      <th>Sugar Crops_food</th>\n",
              "      <th>Treenuts_food</th>\n",
              "      <th>Vegetable Oils_food</th>\n",
              "      <th>Vegetables_food</th>\n",
              "      <th>Vegetal Products_food</th>\n",
              "      <th>Alcoholic Beverages_protein</th>\n",
              "      <th>Animal fats_protein</th>\n",
              "      <th>Animal Products_protein</th>\n",
              "      <th>Aquatic Products, Other_protein</th>\n",
              "      <th>Cereals - Excluding Beer_protein</th>\n",
              "      <th>Eggs_protein</th>\n",
              "      <th>Fish, Seafood_protein</th>\n",
              "      <th>Fruits - Excluding Wine_protein</th>\n",
              "      <th>Meat_protein</th>\n",
              "      <th>Milk - Excluding Butter_protein</th>\n",
              "      <th>Miscellaneous_protein</th>\n",
              "      <th>Offals_protein</th>\n",
              "      <th>Oilcrops_protein</th>\n",
              "      <th>Pulses_protein</th>\n",
              "      <th>Spices_protein</th>\n",
              "      <th>Starchy Roots_protein</th>\n",
              "      <th>Stimulants_protein</th>\n",
              "      <th>Sugar &amp; Sweeteners_protein</th>\n",
              "      <th>Sugar Crops_protein</th>\n",
              "      <th>Treenuts_protein</th>\n",
              "      <th>Vegetable Oils_protein</th>\n",
              "      <th>Vegetables_protein</th>\n",
              "      <th>Vegetal Products_protein</th>\n",
              "      <th>Alcoholic Beverages</th>\n",
              "      <th>Animal fats</th>\n",
              "      <th>Animal Products</th>\n",
              "      <th>Aquatic Products, Other</th>\n",
              "      <th>Cereals - Excluding Beer</th>\n",
              "      <th>Eggs</th>\n",
              "      <th>Fish, Seafood</th>\n",
              "      <th>Fruits - Excluding Wine</th>\n",
              "      <th>Meat</th>\n",
              "      <th>Milk - Excluding Butter</th>\n",
              "      <th>Miscellaneous</th>\n",
              "      <th>Offals</th>\n",
              "      <th>Oilcrops</th>\n",
              "      <th>Pulses</th>\n",
              "      <th>Spices</th>\n",
              "      <th>Starchy Roots</th>\n",
              "      <th>Stimulants</th>\n",
              "      <th>Sugar &amp; Sweeteners</th>\n",
              "      <th>Sugar Crops</th>\n",
              "      <th>Treenuts</th>\n",
              "      <th>Vegetable Oils</th>\n",
              "      <th>Vegetables</th>\n",
              "      <th>Vegetal Products</th>\n",
              "      <th>Obesity</th>\n",
              "      <th>Undernourished</th>\n",
              "      <th>Confirmed</th>\n",
              "      <th>Deaths</th>\n",
              "      <th>Recovered</th>\n",
              "      <th>Active</th>\n",
              "      <th>Population</th>\n",
              "      <th>Unit (all except Population)</th>\n",
              "    </tr>\n",
              "  </thead>\n",
              "  <tbody>\n",
              "    <tr>\n",
              "      <th>69</th>\n",
              "      <td>Indonesia</td>\n",
              "      <td>0.0794</td>\n",
              "      <td>0.0309</td>\n",
              "      <td>6.2575</td>\n",
              "      <td>0.0009</td>\n",
              "      <td>24.3918</td>\n",
              "      <td>0.4911</td>\n",
              "      <td>3.9386</td>\n",
              "      <td>5.5134</td>\n",
              "      <td>1.0316</td>\n",
              "      <td>0.5943</td>\n",
              "      <td>0.0026</td>\n",
              "      <td>0.1702</td>\n",
              "      <td>2.2113</td>\n",
              "      <td>0.0988</td>\n",
              "      <td>0.1508</td>\n",
              "      <td>4.6343</td>\n",
              "      <td>0.0406</td>\n",
              "      <td>1.8481</td>\n",
              "      <td>0.0</td>\n",
              "      <td>0.0564</td>\n",
              "      <td>0.8579</td>\n",
              "      <td>3.8558</td>\n",
              "      <td>43.7438</td>\n",
              "      <td>0.0073</td>\n",
              "      <td>0.0219</td>\n",
              "      <td>16.164</td>\n",
              "      <td>0.0</td>\n",
              "      <td>27.3237</td>\n",
              "      <td>1.2821</td>\n",
              "      <td>10.1617</td>\n",
              "      <td>0.743</td>\n",
              "      <td>2.921</td>\n",
              "      <td>1.0854</td>\n",
              "      <td>0.0073</td>\n",
              "      <td>0.692</td>\n",
              "      <td>2.3529</td>\n",
              "      <td>0.4953</td>\n",
              "      <td>0.3351</td>\n",
              "      <td>0.7503</td>\n",
              "      <td>0.4006</td>\n",
              "      <td>0.0219</td>\n",
              "      <td>0.0</td>\n",
              "      <td>0.102</td>\n",
              "      <td>0.0</td>\n",
              "      <td>1.2966</td>\n",
              "      <td>33.836</td>\n",
              "      <td>0.0</td>\n",
              "      <td>0.7049</td>\n",
              "      <td>9.1722</td>\n",
              "      <td>0.0</td>\n",
              "      <td>6.6871</td>\n",
              "      <td>1.4549</td>\n",
              "      <td>2.5122</td>\n",
              "      <td>0.7139</td>\n",
              "      <td>3.6237</td>\n",
              "      <td>0.7049</td>\n",
              "      <td>0.0</td>\n",
              "      <td>0.1627</td>\n",
              "      <td>7.3649</td>\n",
              "      <td>0.0452</td>\n",
              "      <td>0.3886</td>\n",
              "      <td>0.3072</td>\n",
              "      <td>0.497</td>\n",
              "      <td>0.0633</td>\n",
              "      <td>0.0</td>\n",
              "      <td>0.3976</td>\n",
              "      <td>24.0918</td>\n",
              "      <td>0.2711</td>\n",
              "      <td>40.8368</td>\n",
              "      <td>6.9</td>\n",
              "      <td>8.3</td>\n",
              "      <td>0.4221</td>\n",
              "      <td>0.011553</td>\n",
              "      <td>0.34562</td>\n",
              "      <td>0.064927</td>\n",
              "      <td>271739000.0</td>\n",
              "      <td>%</td>\n",
              "    </tr>\n",
              "  </tbody>\n",
              "</table>\n",
              "</div>"
            ],
            "text/plain": [
              "      Country  ...  Unit (all except Population)\n",
              "69  Indonesia  ...                             %\n",
              "\n",
              "[1 rows x 78 columns]"
            ]
          },
          "metadata": {
            "tags": []
          },
          "execution_count": 7
        }
      ]
    },
    {
      "cell_type": "code",
      "metadata": {
        "id": "OAJWdrWl9Pzq"
      },
      "source": [
        ""
      ],
      "execution_count": null,
      "outputs": []
    },
    {
      "cell_type": "markdown",
      "metadata": {
        "id": "8eRlFcl7IY-L"
      },
      "source": [
        "---"
      ]
    },
    {
      "cell_type": "markdown",
      "metadata": {
        "id": "1O9_Cu_gIaxd"
      },
      "source": [
        "# Soal 4: Sorting dan Filtering"
      ]
    },
    {
      "cell_type": "markdown",
      "metadata": {
        "id": "iIPsCyFSIh27"
      },
      "source": [
        "Dari DataFrame hasil penggabungan pada Soal 2 (atau gunakan salah satu supply DataFrame karena kolom nilai non-supply memiliki nilai yang sama), kemudian urutkan data (sort) berdasarkan kolom kematian ('Deaths') dari yang terbesar. Setelah itu lakukan perintah berikut:\n",
        "\n",
        "- Print data hasil sorting\n",
        "- Urutan ke berapakah Indonesia berdasarkan tingkat kematian akibat COVID-19 setelah diurutkan dari yang terbesar? Gunakan code mendapatkan nilainya! \n",
        "- Berapa persen dari populasi jumlah kematian akibat COVID-19 di Indonesia? Hitung jumlah orang yang meninggal! Gunakan code mendapatkan nilainya! #hint: jumlah orang yang meninggal = populasi * kematian --> jangan lupa ada yang masih dalam persen\n"
      ]
    },
    {
      "cell_type": "code",
      "metadata": {
        "id": "n1yZCZ4bOo6m"
      },
      "source": [
        "# Urutkan (sorting) dan print hasil sorting\n",
        "# Code here\n",
        "df3.drop_duplicates(subset ='Deaths',keep = False, inplace = True)\n",
        "sorting= df3.sort_values(by='Deaths',ascending=True, ignore_index=True)"
      ],
      "execution_count": null,
      "outputs": []
    },
    {
      "cell_type": "code",
      "metadata": {
        "id": "IovnkBb1MA0m"
      },
      "source": [
        "# sorts =sorting.sort_values('Deaths', ascending=True, inplace= True)\n",
        "# sorts\n",
        "sorting['Rank']= sorting['Country'].rank()\n",
        "sorting.sort_values('Deaths', ascending= True, ignore_index= True, inplace=True)\n"
      ],
      "execution_count": null,
      "outputs": []
    },
    {
      "cell_type": "code",
      "metadata": {
        "id": "oay9XqlyO8Yd"
      },
      "source": [
        "temp= sorting[[\"Country\",'Rank']]"
      ],
      "execution_count": null,
      "outputs": []
    },
    {
      "cell_type": "code",
      "metadata": {
        "colab": {
          "base_uri": "https://localhost:8080/",
          "height": 76
        },
        "id": "Jrm2RzfLQgxt",
        "outputId": "3676b86a-1b47-4b4f-8d62-b45ea6416712"
      },
      "source": [
        "# Urutan ke berapakah Indonesia\n",
        "# Code here\n",
        "temp.loc[temp['Country']== 'Indonesia']"
      ],
      "execution_count": null,
      "outputs": [
        {
          "output_type": "execute_result",
          "data": {
            "text/html": [
              "<div>\n",
              "<style scoped>\n",
              "    .dataframe tbody tr th:only-of-type {\n",
              "        vertical-align: middle;\n",
              "    }\n",
              "\n",
              "    .dataframe tbody tr th {\n",
              "        vertical-align: top;\n",
              "    }\n",
              "\n",
              "    .dataframe thead th {\n",
              "        text-align: right;\n",
              "    }\n",
              "</style>\n",
              "<table border=\"1\" class=\"dataframe\">\n",
              "  <thead>\n",
              "    <tr style=\"text-align: right;\">\n",
              "      <th></th>\n",
              "      <th>Country</th>\n",
              "      <th>Rank</th>\n",
              "    </tr>\n",
              "  </thead>\n",
              "  <tbody>\n",
              "    <tr>\n",
              "      <th>73</th>\n",
              "      <td>Indonesia</td>\n",
              "      <td>67.0</td>\n",
              "    </tr>\n",
              "  </tbody>\n",
              "</table>\n",
              "</div>"
            ],
            "text/plain": [
              "      Country  Rank\n",
              "73  Indonesia  67.0"
            ]
          },
          "metadata": {
            "tags": []
          },
          "execution_count": 23
        }
      ]
    },
    {
      "cell_type": "code",
      "metadata": {
        "id": "FnohMVQwP8Og",
        "colab": {
          "base_uri": "https://localhost:8080/",
          "height": 128
        },
        "outputId": "73df613c-5a05-44da-f6ae-80e760f22153"
      },
      "source": [
        "sorting.loc[sorting['Country']=='Indonesia']"
      ],
      "execution_count": null,
      "outputs": [
        {
          "output_type": "execute_result",
          "data": {
            "text/html": [
              "<div>\n",
              "<style scoped>\n",
              "    .dataframe tbody tr th:only-of-type {\n",
              "        vertical-align: middle;\n",
              "    }\n",
              "\n",
              "    .dataframe tbody tr th {\n",
              "        vertical-align: top;\n",
              "    }\n",
              "\n",
              "    .dataframe thead th {\n",
              "        text-align: right;\n",
              "    }\n",
              "</style>\n",
              "<table border=\"1\" class=\"dataframe\">\n",
              "  <thead>\n",
              "    <tr style=\"text-align: right;\">\n",
              "      <th></th>\n",
              "      <th>Country</th>\n",
              "      <th>Alcoholic Beverages_food</th>\n",
              "      <th>Animal fats_food</th>\n",
              "      <th>Animal Products_food</th>\n",
              "      <th>Aquatic Products, Other_food</th>\n",
              "      <th>Cereals - Excluding Beer_food</th>\n",
              "      <th>Eggs_food</th>\n",
              "      <th>Fish, Seafood_food</th>\n",
              "      <th>Fruits - Excluding Wine_food</th>\n",
              "      <th>Meat_food</th>\n",
              "      <th>Milk - Excluding Butter_food</th>\n",
              "      <th>Miscellaneous_food</th>\n",
              "      <th>Offals_food</th>\n",
              "      <th>Oilcrops_food</th>\n",
              "      <th>Pulses_food</th>\n",
              "      <th>Spices_food</th>\n",
              "      <th>Starchy Roots_food</th>\n",
              "      <th>Stimulants_food</th>\n",
              "      <th>Sugar &amp; Sweeteners_food</th>\n",
              "      <th>Sugar Crops_food</th>\n",
              "      <th>Treenuts_food</th>\n",
              "      <th>Vegetable Oils_food</th>\n",
              "      <th>Vegetables_food</th>\n",
              "      <th>Vegetal Products_food</th>\n",
              "      <th>Alcoholic Beverages_protein</th>\n",
              "      <th>Animal fats_protein</th>\n",
              "      <th>Animal Products_protein</th>\n",
              "      <th>Aquatic Products, Other_protein</th>\n",
              "      <th>Cereals - Excluding Beer_protein</th>\n",
              "      <th>Eggs_protein</th>\n",
              "      <th>Fish, Seafood_protein</th>\n",
              "      <th>Fruits - Excluding Wine_protein</th>\n",
              "      <th>Meat_protein</th>\n",
              "      <th>Milk - Excluding Butter_protein</th>\n",
              "      <th>Miscellaneous_protein</th>\n",
              "      <th>Offals_protein</th>\n",
              "      <th>Oilcrops_protein</th>\n",
              "      <th>Pulses_protein</th>\n",
              "      <th>Spices_protein</th>\n",
              "      <th>Starchy Roots_protein</th>\n",
              "      <th>Stimulants_protein</th>\n",
              "      <th>Sugar &amp; Sweeteners_protein</th>\n",
              "      <th>Sugar Crops_protein</th>\n",
              "      <th>Treenuts_protein</th>\n",
              "      <th>Vegetable Oils_protein</th>\n",
              "      <th>Vegetables_protein</th>\n",
              "      <th>Vegetal Products_protein</th>\n",
              "      <th>Alcoholic Beverages</th>\n",
              "      <th>Animal fats</th>\n",
              "      <th>Animal Products</th>\n",
              "      <th>Aquatic Products, Other</th>\n",
              "      <th>Cereals - Excluding Beer</th>\n",
              "      <th>Eggs</th>\n",
              "      <th>Fish, Seafood</th>\n",
              "      <th>Fruits - Excluding Wine</th>\n",
              "      <th>Meat</th>\n",
              "      <th>Milk - Excluding Butter</th>\n",
              "      <th>Miscellaneous</th>\n",
              "      <th>Offals</th>\n",
              "      <th>Oilcrops</th>\n",
              "      <th>Pulses</th>\n",
              "      <th>Spices</th>\n",
              "      <th>Starchy Roots</th>\n",
              "      <th>Stimulants</th>\n",
              "      <th>Sugar &amp; Sweeteners</th>\n",
              "      <th>Sugar Crops</th>\n",
              "      <th>Treenuts</th>\n",
              "      <th>Vegetable Oils</th>\n",
              "      <th>Vegetables</th>\n",
              "      <th>Vegetal Products</th>\n",
              "      <th>Obesity</th>\n",
              "      <th>Undernourished</th>\n",
              "      <th>Confirmed</th>\n",
              "      <th>Deaths</th>\n",
              "      <th>Recovered</th>\n",
              "      <th>Active</th>\n",
              "      <th>Population</th>\n",
              "      <th>Unit (all except Population)</th>\n",
              "      <th>Rank</th>\n",
              "    </tr>\n",
              "  </thead>\n",
              "  <tbody>\n",
              "    <tr>\n",
              "      <th>73</th>\n",
              "      <td>Indonesia</td>\n",
              "      <td>0.0794</td>\n",
              "      <td>0.0309</td>\n",
              "      <td>6.2575</td>\n",
              "      <td>0.0009</td>\n",
              "      <td>24.3918</td>\n",
              "      <td>0.4911</td>\n",
              "      <td>3.9386</td>\n",
              "      <td>5.5134</td>\n",
              "      <td>1.0316</td>\n",
              "      <td>0.5943</td>\n",
              "      <td>0.0026</td>\n",
              "      <td>0.1702</td>\n",
              "      <td>2.2113</td>\n",
              "      <td>0.0988</td>\n",
              "      <td>0.1508</td>\n",
              "      <td>4.6343</td>\n",
              "      <td>0.0406</td>\n",
              "      <td>1.8481</td>\n",
              "      <td>0.0</td>\n",
              "      <td>0.0564</td>\n",
              "      <td>0.8579</td>\n",
              "      <td>3.8558</td>\n",
              "      <td>43.7438</td>\n",
              "      <td>0.0073</td>\n",
              "      <td>0.0219</td>\n",
              "      <td>16.164</td>\n",
              "      <td>0.0</td>\n",
              "      <td>27.3237</td>\n",
              "      <td>1.2821</td>\n",
              "      <td>10.1617</td>\n",
              "      <td>0.743</td>\n",
              "      <td>2.921</td>\n",
              "      <td>1.0854</td>\n",
              "      <td>0.0073</td>\n",
              "      <td>0.692</td>\n",
              "      <td>2.3529</td>\n",
              "      <td>0.4953</td>\n",
              "      <td>0.3351</td>\n",
              "      <td>0.7503</td>\n",
              "      <td>0.4006</td>\n",
              "      <td>0.0219</td>\n",
              "      <td>0.0</td>\n",
              "      <td>0.102</td>\n",
              "      <td>0.0</td>\n",
              "      <td>1.2966</td>\n",
              "      <td>33.836</td>\n",
              "      <td>0.0</td>\n",
              "      <td>0.7049</td>\n",
              "      <td>9.1722</td>\n",
              "      <td>0.0</td>\n",
              "      <td>6.6871</td>\n",
              "      <td>1.4549</td>\n",
              "      <td>2.5122</td>\n",
              "      <td>0.7139</td>\n",
              "      <td>3.6237</td>\n",
              "      <td>0.7049</td>\n",
              "      <td>0.0</td>\n",
              "      <td>0.1627</td>\n",
              "      <td>7.3649</td>\n",
              "      <td>0.0452</td>\n",
              "      <td>0.3886</td>\n",
              "      <td>0.3072</td>\n",
              "      <td>0.497</td>\n",
              "      <td>0.0633</td>\n",
              "      <td>0.0</td>\n",
              "      <td>0.3976</td>\n",
              "      <td>24.0918</td>\n",
              "      <td>0.2711</td>\n",
              "      <td>40.8368</td>\n",
              "      <td>6.9</td>\n",
              "      <td>8.3</td>\n",
              "      <td>0.4221</td>\n",
              "      <td>0.011553</td>\n",
              "      <td>0.34562</td>\n",
              "      <td>0.064927</td>\n",
              "      <td>271739000.0</td>\n",
              "      <td>%</td>\n",
              "      <td>67.0</td>\n",
              "    </tr>\n",
              "  </tbody>\n",
              "</table>\n",
              "</div>"
            ],
            "text/plain": [
              "      Country  Alcoholic Beverages_food  ...  Unit (all except Population)  Rank\n",
              "73  Indonesia                    0.0794  ...                             %  67.0\n",
              "\n",
              "[1 rows x 79 columns]"
            ]
          },
          "metadata": {
            "tags": []
          },
          "execution_count": 27
        }
      ]
    },
    {
      "cell_type": "code",
      "metadata": {
        "id": "OAzky41S6eAm",
        "colab": {
          "base_uri": "https://localhost:8080/"
        },
        "outputId": "914c97eb-86d7-4e6d-a564-afaa009d7f14"
      },
      "source": [
        "# Berapa persen jumlah kematian di Indonesia? Berapa Jumlahnya?\n",
        "# Code here\n",
        "meninggal_persen = sorting.loc[sorting['Country']=='Indonesia']['Deaths']\n",
        "meninggal = meninggal_persen * sorting.loc[sorting['Country']=='Indonesia']['Population']\n",
        "\n",
        "print(f'Jumlah yang meninggal di Indonesia ada {round(meninggal_persen, 10)}% dari jumlah populasi.') # 10 digit\n",
        "print(f'Jumlah yang meninggal di Indonesia ada {round(meninggal)} orang.')"
      ],
      "execution_count": null,
      "outputs": [
        {
          "output_type": "stream",
          "text": [
            "Jumlah yang meninggal di Indonesia ada 73    0.011553\n",
            "Name: Deaths, dtype: float64% dari jumlah populasi.\n",
            "Jumlah yang meninggal di Indonesia ada 73    3139300.0\n",
            "dtype: float64 orang.\n"
          ],
          "name": "stdout"
        }
      ]
    },
    {
      "cell_type": "markdown",
      "metadata": {
        "id": "Ur4P17eNVIDU"
      },
      "source": [
        "---"
      ]
    },
    {
      "cell_type": "markdown",
      "metadata": {
        "id": "zOvEqSmuUsXy"
      },
      "source": [
        "# Soal 5: Binning, Grouping, dan Aggregating data"
      ]
    },
    {
      "cell_type": "markdown",
      "metadata": {
        "id": "mLxskYLCTYFT"
      },
      "source": [
        "Lakukan binning pada kolom terkonfirmasi (Confirmed) COVID-19 dari DataFrame df_fat menjadi 5 bagian (q=5). Teman-teman dapat menggunakan fungsi qcut untuk melakukan bininng ini. Masukan data hasil binning tersebut menjadi kolom baru pada DataFrame df_fat. Beri nama kolom tersebut dengan 'Confirmed Category'. Berikan label 'Sangat Tidak Banyak', 'Tidak Banyak', 'Sedang', 'Cukup Banyak', 'Sangat Banyak'.\n",
        "\n",
        "Baca dokumentasi berikut untuk fungsi qcut : https://pandas.pydata.org/pandas-docs/stable/reference/api/pandas.qcut.html\n",
        "\n",
        "Kemudian lakukan perintah-perintah berikut:\n",
        "- Buat DataFrame baru yang berisi data grouping berdasarkan kolom hasil bininng atau kolom 'Confirmed Category'. \n",
        "- Lakukan grouping hanya pada kolom 'Obesity', 'Meat', 'Fruits - Excluding Wine', 'Fish, Seafood', 'Animal Products', 'Vegetal Products' saja.\n",
        "- Kemudian aggregate dengan fungsi mean. (df_baru = df_fat.groupby(...).mean())\n",
        "- Save DataFrame hasil binning, grouping, dan aggregating ke dalam file csv."
      ]
    },
    {
      "cell_type": "code",
      "metadata": {
        "id": "l8o8Gu2If9N6",
        "colab": {
          "base_uri": "https://localhost:8080/",
          "height": 341
        },
        "outputId": "be14283c-9445-4e5b-e2f8-7b7212ff6d00"
      },
      "source": [
        "# Lakukan binning pada kolom terkonfirmasi untuk DataFrame df_fat\n",
        "labels = ['Sangat Tidak Banyak', 'Tidak Banyak', 'Sedang', 'Cukup Banyak', 'Sangat Banyak']\n",
        "\n",
        "# Code here\n",
        "df_fat['Confirmed Category'] = pd.qcut(df_fat['Confirmed'], 5, labels=labels)\n",
        "df_fat.head()"
      ],
      "execution_count": null,
      "outputs": [
        {
          "output_type": "execute_result",
          "data": {
            "text/html": [
              "<div>\n",
              "<style scoped>\n",
              "    .dataframe tbody tr th:only-of-type {\n",
              "        vertical-align: middle;\n",
              "    }\n",
              "\n",
              "    .dataframe tbody tr th {\n",
              "        vertical-align: top;\n",
              "    }\n",
              "\n",
              "    .dataframe thead th {\n",
              "        text-align: right;\n",
              "    }\n",
              "</style>\n",
              "<table border=\"1\" class=\"dataframe\">\n",
              "  <thead>\n",
              "    <tr style=\"text-align: right;\">\n",
              "      <th></th>\n",
              "      <th>Country</th>\n",
              "      <th>Alcoholic Beverages</th>\n",
              "      <th>Animal Products</th>\n",
              "      <th>Animal fats</th>\n",
              "      <th>Aquatic Products, Other</th>\n",
              "      <th>Cereals - Excluding Beer</th>\n",
              "      <th>Eggs</th>\n",
              "      <th>Fish, Seafood</th>\n",
              "      <th>Fruits - Excluding Wine</th>\n",
              "      <th>Meat</th>\n",
              "      <th>Miscellaneous</th>\n",
              "      <th>Milk - Excluding Butter</th>\n",
              "      <th>Offals</th>\n",
              "      <th>Oilcrops</th>\n",
              "      <th>Pulses</th>\n",
              "      <th>Spices</th>\n",
              "      <th>Starchy Roots</th>\n",
              "      <th>Stimulants</th>\n",
              "      <th>Sugar Crops</th>\n",
              "      <th>Sugar &amp; Sweeteners</th>\n",
              "      <th>Treenuts</th>\n",
              "      <th>Vegetal Products</th>\n",
              "      <th>Vegetable Oils</th>\n",
              "      <th>Vegetables</th>\n",
              "      <th>Obesity</th>\n",
              "      <th>Undernourished</th>\n",
              "      <th>Confirmed</th>\n",
              "      <th>Deaths</th>\n",
              "      <th>Recovered</th>\n",
              "      <th>Active</th>\n",
              "      <th>Population</th>\n",
              "      <th>Unit (all except Population)</th>\n",
              "      <th>Confirmed Category</th>\n",
              "    </tr>\n",
              "  </thead>\n",
              "  <tbody>\n",
              "    <tr>\n",
              "      <th>0</th>\n",
              "      <td>Afghanistan</td>\n",
              "      <td>0.0</td>\n",
              "      <td>21.6397</td>\n",
              "      <td>6.2224</td>\n",
              "      <td>0.0</td>\n",
              "      <td>8.0353</td>\n",
              "      <td>0.6859</td>\n",
              "      <td>0.0327</td>\n",
              "      <td>0.4246</td>\n",
              "      <td>6.1244</td>\n",
              "      <td>0.0163</td>\n",
              "      <td>8.2803</td>\n",
              "      <td>0.3103</td>\n",
              "      <td>1.0452</td>\n",
              "      <td>0.1960</td>\n",
              "      <td>0.2776</td>\n",
              "      <td>0.0490</td>\n",
              "      <td>0.0980</td>\n",
              "      <td>0.0</td>\n",
              "      <td>0.0</td>\n",
              "      <td>0.7513</td>\n",
              "      <td>28.3684</td>\n",
              "      <td>17.0831</td>\n",
              "      <td>0.3593</td>\n",
              "      <td>4.5</td>\n",
              "      <td>29.8</td>\n",
              "      <td>0.142134</td>\n",
              "      <td>0.006186</td>\n",
              "      <td>0.123374</td>\n",
              "      <td>0.012574</td>\n",
              "      <td>38928000.0</td>\n",
              "      <td>%</td>\n",
              "      <td>Tidak Banyak</td>\n",
              "    </tr>\n",
              "    <tr>\n",
              "      <th>1</th>\n",
              "      <td>Albania</td>\n",
              "      <td>0.0</td>\n",
              "      <td>32.0002</td>\n",
              "      <td>3.4172</td>\n",
              "      <td>0.0</td>\n",
              "      <td>2.6734</td>\n",
              "      <td>1.6448</td>\n",
              "      <td>0.1445</td>\n",
              "      <td>0.6418</td>\n",
              "      <td>8.7428</td>\n",
              "      <td>0.0170</td>\n",
              "      <td>17.7576</td>\n",
              "      <td>0.2933</td>\n",
              "      <td>3.1622</td>\n",
              "      <td>0.1148</td>\n",
              "      <td>0.0000</td>\n",
              "      <td>0.0510</td>\n",
              "      <td>0.5270</td>\n",
              "      <td>0.0</td>\n",
              "      <td>0.0</td>\n",
              "      <td>0.9181</td>\n",
              "      <td>17.9998</td>\n",
              "      <td>9.2443</td>\n",
              "      <td>0.6503</td>\n",
              "      <td>22.3</td>\n",
              "      <td>6.2</td>\n",
              "      <td>2.967301</td>\n",
              "      <td>0.050951</td>\n",
              "      <td>1.792636</td>\n",
              "      <td>1.123714</td>\n",
              "      <td>2838000.0</td>\n",
              "      <td>%</td>\n",
              "      <td>Cukup Banyak</td>\n",
              "    </tr>\n",
              "    <tr>\n",
              "      <th>2</th>\n",
              "      <td>Algeria</td>\n",
              "      <td>0.0</td>\n",
              "      <td>14.4175</td>\n",
              "      <td>0.8972</td>\n",
              "      <td>0.0</td>\n",
              "      <td>4.2035</td>\n",
              "      <td>1.2171</td>\n",
              "      <td>0.2008</td>\n",
              "      <td>0.5772</td>\n",
              "      <td>3.8961</td>\n",
              "      <td>0.0439</td>\n",
              "      <td>8.0934</td>\n",
              "      <td>0.1067</td>\n",
              "      <td>1.1983</td>\n",
              "      <td>0.2698</td>\n",
              "      <td>0.1568</td>\n",
              "      <td>0.1129</td>\n",
              "      <td>0.2886</td>\n",
              "      <td>0.0</td>\n",
              "      <td>0.0</td>\n",
              "      <td>0.8595</td>\n",
              "      <td>35.5857</td>\n",
              "      <td>27.3606</td>\n",
              "      <td>0.5145</td>\n",
              "      <td>26.6</td>\n",
              "      <td>3.9</td>\n",
              "      <td>0.244897</td>\n",
              "      <td>0.006558</td>\n",
              "      <td>0.167572</td>\n",
              "      <td>0.070767</td>\n",
              "      <td>44357000.0</td>\n",
              "      <td>%</td>\n",
              "      <td>Tidak Banyak</td>\n",
              "    </tr>\n",
              "    <tr>\n",
              "      <th>3</th>\n",
              "      <td>Angola</td>\n",
              "      <td>0.0</td>\n",
              "      <td>15.3041</td>\n",
              "      <td>1.3130</td>\n",
              "      <td>0.0</td>\n",
              "      <td>6.5545</td>\n",
              "      <td>0.1539</td>\n",
              "      <td>1.4155</td>\n",
              "      <td>0.3488</td>\n",
              "      <td>11.0268</td>\n",
              "      <td>0.0308</td>\n",
              "      <td>1.2309</td>\n",
              "      <td>0.1539</td>\n",
              "      <td>3.9902</td>\n",
              "      <td>0.3282</td>\n",
              "      <td>0.0103</td>\n",
              "      <td>0.7078</td>\n",
              "      <td>0.1128</td>\n",
              "      <td>0.0</td>\n",
              "      <td>0.0</td>\n",
              "      <td>0.0308</td>\n",
              "      <td>34.7010</td>\n",
              "      <td>22.4638</td>\n",
              "      <td>0.1231</td>\n",
              "      <td>6.8</td>\n",
              "      <td>25</td>\n",
              "      <td>0.061687</td>\n",
              "      <td>0.001461</td>\n",
              "      <td>0.056808</td>\n",
              "      <td>0.003419</td>\n",
              "      <td>32522000.0</td>\n",
              "      <td>%</td>\n",
              "      <td>Sangat Tidak Banyak</td>\n",
              "    </tr>\n",
              "    <tr>\n",
              "      <th>4</th>\n",
              "      <td>Antigua and Barbuda</td>\n",
              "      <td>0.0</td>\n",
              "      <td>27.7033</td>\n",
              "      <td>4.6686</td>\n",
              "      <td>0.0</td>\n",
              "      <td>3.2153</td>\n",
              "      <td>0.3872</td>\n",
              "      <td>1.5263</td>\n",
              "      <td>1.2177</td>\n",
              "      <td>14.3202</td>\n",
              "      <td>0.0898</td>\n",
              "      <td>6.6607</td>\n",
              "      <td>0.1347</td>\n",
              "      <td>1.3579</td>\n",
              "      <td>0.0673</td>\n",
              "      <td>0.3591</td>\n",
              "      <td>0.0449</td>\n",
              "      <td>1.0549</td>\n",
              "      <td>0.0</td>\n",
              "      <td>0.0</td>\n",
              "      <td>0.2020</td>\n",
              "      <td>22.2995</td>\n",
              "      <td>14.4436</td>\n",
              "      <td>0.2469</td>\n",
              "      <td>19.1</td>\n",
              "      <td>NaN</td>\n",
              "      <td>0.293878</td>\n",
              "      <td>0.007143</td>\n",
              "      <td>0.190816</td>\n",
              "      <td>0.095918</td>\n",
              "      <td>98000.0</td>\n",
              "      <td>%</td>\n",
              "      <td>Tidak Banyak</td>\n",
              "    </tr>\n",
              "  </tbody>\n",
              "</table>\n",
              "</div>"
            ],
            "text/plain": [
              "               Country  ...   Confirmed Category\n",
              "0          Afghanistan  ...         Tidak Banyak\n",
              "1              Albania  ...         Cukup Banyak\n",
              "2              Algeria  ...         Tidak Banyak\n",
              "3               Angola  ...  Sangat Tidak Banyak\n",
              "4  Antigua and Barbuda  ...         Tidak Banyak\n",
              "\n",
              "[5 rows x 33 columns]"
            ]
          },
          "metadata": {
            "tags": []
          },
          "execution_count": 49
        }
      ]
    },
    {
      "cell_type": "code",
      "metadata": {
        "id": "wH_Twtg9gLHZ",
        "colab": {
          "base_uri": "https://localhost:8080/",
          "height": 220
        },
        "outputId": "43023f8a-ac0b-46b9-c7ff-1a8c28ead6ef"
      },
      "source": [
        "# Lakukan grouping pada kolom hasil binning ('Confirmed Category'), kemudian aggregate menggunakan fungsi mean\n",
        "cols = ['Obesity', 'Meat', 'Fruits - Excluding Wine', 'Fish, Seafood', 'Animal Products', 'Vegetal Products']\n",
        "\n",
        "groupby_confirmed= df_fat[cols].groupby(df_fat['Confirmed Category']).mean()\n",
        "\n",
        "# Code here\n",
        "# groupby_confirmed = df_fatt.groupby(['Confirmed Category']).mean()\n",
        "groupby_confirmed"
      ],
      "execution_count": null,
      "outputs": [
        {
          "output_type": "execute_result",
          "data": {
            "text/html": [
              "<div>\n",
              "<style scoped>\n",
              "    .dataframe tbody tr th:only-of-type {\n",
              "        vertical-align: middle;\n",
              "    }\n",
              "\n",
              "    .dataframe tbody tr th {\n",
              "        vertical-align: top;\n",
              "    }\n",
              "\n",
              "    .dataframe thead th {\n",
              "        text-align: right;\n",
              "    }\n",
              "</style>\n",
              "<table border=\"1\" class=\"dataframe\">\n",
              "  <thead>\n",
              "    <tr style=\"text-align: right;\">\n",
              "      <th></th>\n",
              "      <th>Obesity</th>\n",
              "      <th>Meat</th>\n",
              "      <th>Fruits - Excluding Wine</th>\n",
              "      <th>Fish, Seafood</th>\n",
              "      <th>Animal Products</th>\n",
              "      <th>Vegetal Products</th>\n",
              "    </tr>\n",
              "    <tr>\n",
              "      <th>Confirmed Category</th>\n",
              "      <th></th>\n",
              "      <th></th>\n",
              "      <th></th>\n",
              "      <th></th>\n",
              "      <th></th>\n",
              "      <th></th>\n",
              "    </tr>\n",
              "  </thead>\n",
              "  <tbody>\n",
              "    <tr>\n",
              "      <th>Sangat Tidak Banyak</th>\n",
              "      <td>12.156250</td>\n",
              "      <td>9.748312</td>\n",
              "      <td>0.411312</td>\n",
              "      <td>0.967479</td>\n",
              "      <td>16.916003</td>\n",
              "      <td>33.084894</td>\n",
              "    </tr>\n",
              "    <tr>\n",
              "      <th>Tidak Banyak</th>\n",
              "      <td>12.136364</td>\n",
              "      <td>6.856964</td>\n",
              "      <td>0.865030</td>\n",
              "      <td>0.960824</td>\n",
              "      <td>15.073282</td>\n",
              "      <td>34.926876</td>\n",
              "    </tr>\n",
              "    <tr>\n",
              "      <th>Sedang</th>\n",
              "      <td>19.243750</td>\n",
              "      <td>9.743353</td>\n",
              "      <td>0.518112</td>\n",
              "      <td>0.800272</td>\n",
              "      <td>20.315250</td>\n",
              "      <td>29.684997</td>\n",
              "    </tr>\n",
              "    <tr>\n",
              "      <th>Cukup Banyak</th>\n",
              "      <td>24.884848</td>\n",
              "      <td>10.131742</td>\n",
              "      <td>0.542139</td>\n",
              "      <td>0.853700</td>\n",
              "      <td>24.875552</td>\n",
              "      <td>25.124115</td>\n",
              "    </tr>\n",
              "    <tr>\n",
              "      <th>Sangat Banyak</th>\n",
              "      <td>24.903030</td>\n",
              "      <td>10.415409</td>\n",
              "      <td>0.411294</td>\n",
              "      <td>0.558924</td>\n",
              "      <td>26.164791</td>\n",
              "      <td>23.835294</td>\n",
              "    </tr>\n",
              "  </tbody>\n",
              "</table>\n",
              "</div>"
            ],
            "text/plain": [
              "                       Obesity       Meat  ...  Animal Products  Vegetal Products\n",
              "Confirmed Category                         ...                                   \n",
              "Sangat Tidak Banyak  12.156250   9.748312  ...        16.916003         33.084894\n",
              "Tidak Banyak         12.136364   6.856964  ...        15.073282         34.926876\n",
              "Sedang               19.243750   9.743353  ...        20.315250         29.684997\n",
              "Cukup Banyak         24.884848  10.131742  ...        24.875552         25.124115\n",
              "Sangat Banyak        24.903030  10.415409  ...        26.164791         23.835294\n",
              "\n",
              "[5 rows x 6 columns]"
            ]
          },
          "metadata": {
            "tags": []
          },
          "execution_count": 66
        }
      ]
    },
    {
      "cell_type": "code",
      "metadata": {
        "id": "ylCxhoZIhQ1J"
      },
      "source": [
        "# Save DataFrame hasil binning, grouping, dan aggregating\n",
        "\n",
        "groupby_confirmed.to_csv('groupby_confirmed.csv')"
      ],
      "execution_count": null,
      "outputs": []
    },
    {
      "cell_type": "markdown",
      "metadata": {
        "id": "QXt4J6-ki7yV"
      },
      "source": [
        "---"
      ]
    },
    {
      "cell_type": "markdown",
      "metadata": {
        "id": "KYkVllUIi9gk"
      },
      "source": [
        "# Soal 6: Bar plot"
      ]
    },
    {
      "cell_type": "markdown",
      "metadata": {
        "id": "oW_a_78Fjkbx"
      },
      "source": [
        "Gunakan data grouping pada soal sebelumnya untuk melakukan visualisasi. Jika kalian tidak dapat menyelesaikan soal tersebut, maka silahkan [download](https://drive.google.com/uc?export=download&id=1e6-3xVA6awAForzzMhMMOTe0GS2pUTrM) data berikut yang merupakan hasil dari data grouping soal 4.\n",
        "\n",
        "Normalisasi data hasil grouping tersebut dengan rumus min-max normalisasi seperti rumus berikut ini. Kemudian buatlah grouping Visualization dengan berplot, visualisasikan data column 'Obesity', 'Fruits - Excluding Wine', 'Fish, Seafood', 'Animal Products' dan 'Vegetal Products'. "
      ]
    },
    {
      "cell_type": "markdown",
      "metadata": {
        "id": "884pC4nnWZVg"
      },
      "source": [
        "\\begin{equation*}\n",
        " X_{norm} = \\dfrac{X - X_{min}}{X_{max} - X_{min}}\n",
        "\\end{equation*}\n"
      ]
    },
    {
      "cell_type": "code",
      "metadata": {
        "id": "-5tpx0PNlUQx",
        "colab": {
          "base_uri": "https://localhost:8080/",
          "height": 220
        },
        "outputId": "5fb24ecd-265c-410d-a4e9-2605992a1637"
      },
      "source": [
        "# Gunakan DataFrame hasil grouping soal 4 atau read data hasil download jika tidak dapat mengerjakan soal 4\n",
        "df = groupby_confirmed\n",
        "\n",
        "# Atau\n",
        "\n",
        "df = pd.read_csv('groupby_confirmed.csv').set_index('Confirmed Category')\n",
        "\n",
        "# Lihat df dan pastikan sesuai dengan expected output pada soal 4\n",
        "display(df)"
      ],
      "execution_count": null,
      "outputs": [
        {
          "output_type": "display_data",
          "data": {
            "text/html": [
              "<div>\n",
              "<style scoped>\n",
              "    .dataframe tbody tr th:only-of-type {\n",
              "        vertical-align: middle;\n",
              "    }\n",
              "\n",
              "    .dataframe tbody tr th {\n",
              "        vertical-align: top;\n",
              "    }\n",
              "\n",
              "    .dataframe thead th {\n",
              "        text-align: right;\n",
              "    }\n",
              "</style>\n",
              "<table border=\"1\" class=\"dataframe\">\n",
              "  <thead>\n",
              "    <tr style=\"text-align: right;\">\n",
              "      <th></th>\n",
              "      <th>Obesity</th>\n",
              "      <th>Meat</th>\n",
              "      <th>Fruits - Excluding Wine</th>\n",
              "      <th>Fish, Seafood</th>\n",
              "      <th>Animal Products</th>\n",
              "      <th>Vegetal Products</th>\n",
              "    </tr>\n",
              "    <tr>\n",
              "      <th>Confirmed Category</th>\n",
              "      <th></th>\n",
              "      <th></th>\n",
              "      <th></th>\n",
              "      <th></th>\n",
              "      <th></th>\n",
              "      <th></th>\n",
              "    </tr>\n",
              "  </thead>\n",
              "  <tbody>\n",
              "    <tr>\n",
              "      <th>Sangat Tidak Banyak</th>\n",
              "      <td>12.156250</td>\n",
              "      <td>9.748312</td>\n",
              "      <td>0.411312</td>\n",
              "      <td>0.967479</td>\n",
              "      <td>16.916003</td>\n",
              "      <td>33.084894</td>\n",
              "    </tr>\n",
              "    <tr>\n",
              "      <th>Tidak Banyak</th>\n",
              "      <td>12.136364</td>\n",
              "      <td>6.856964</td>\n",
              "      <td>0.865030</td>\n",
              "      <td>0.960824</td>\n",
              "      <td>15.073282</td>\n",
              "      <td>34.926876</td>\n",
              "    </tr>\n",
              "    <tr>\n",
              "      <th>Sedang</th>\n",
              "      <td>19.243750</td>\n",
              "      <td>9.743353</td>\n",
              "      <td>0.518112</td>\n",
              "      <td>0.800272</td>\n",
              "      <td>20.315250</td>\n",
              "      <td>29.684997</td>\n",
              "    </tr>\n",
              "    <tr>\n",
              "      <th>Cukup Banyak</th>\n",
              "      <td>24.884848</td>\n",
              "      <td>10.131742</td>\n",
              "      <td>0.542139</td>\n",
              "      <td>0.853700</td>\n",
              "      <td>24.875552</td>\n",
              "      <td>25.124115</td>\n",
              "    </tr>\n",
              "    <tr>\n",
              "      <th>Sangat Banyak</th>\n",
              "      <td>24.903030</td>\n",
              "      <td>10.415409</td>\n",
              "      <td>0.411294</td>\n",
              "      <td>0.558924</td>\n",
              "      <td>26.164791</td>\n",
              "      <td>23.835294</td>\n",
              "    </tr>\n",
              "  </tbody>\n",
              "</table>\n",
              "</div>"
            ],
            "text/plain": [
              "                       Obesity       Meat  ...  Animal Products  Vegetal Products\n",
              "Confirmed Category                         ...                                   \n",
              "Sangat Tidak Banyak  12.156250   9.748312  ...        16.916003         33.084894\n",
              "Tidak Banyak         12.136364   6.856964  ...        15.073282         34.926876\n",
              "Sedang               19.243750   9.743353  ...        20.315250         29.684997\n",
              "Cukup Banyak         24.884848  10.131742  ...        24.875552         25.124115\n",
              "Sangat Banyak        24.903030  10.415409  ...        26.164791         23.835294\n",
              "\n",
              "[5 rows x 6 columns]"
            ]
          },
          "metadata": {
            "tags": []
          }
        }
      ]
    },
    {
      "cell_type": "code",
      "metadata": {
        "id": "nokTOpibmhD0",
        "colab": {
          "base_uri": "https://localhost:8080/",
          "height": 220
        },
        "outputId": "8234bfc8-1fa2-4342-88ed-7cdd757407cf"
      },
      "source": [
        "# Lakukan normalisasi pada DataFrame df\n",
        "# Code here\n",
        "df_norm = (df - df.min())/(df.max()-df.min())\n",
        "\n",
        "# Lihat df_norm dan pastikan sesuai dengan expected output\n",
        "display(df_norm)"
      ],
      "execution_count": null,
      "outputs": [
        {
          "output_type": "display_data",
          "data": {
            "text/html": [
              "<div>\n",
              "<style scoped>\n",
              "    .dataframe tbody tr th:only-of-type {\n",
              "        vertical-align: middle;\n",
              "    }\n",
              "\n",
              "    .dataframe tbody tr th {\n",
              "        vertical-align: top;\n",
              "    }\n",
              "\n",
              "    .dataframe thead th {\n",
              "        text-align: right;\n",
              "    }\n",
              "</style>\n",
              "<table border=\"1\" class=\"dataframe\">\n",
              "  <thead>\n",
              "    <tr style=\"text-align: right;\">\n",
              "      <th></th>\n",
              "      <th>Obesity</th>\n",
              "      <th>Meat</th>\n",
              "      <th>Fruits - Excluding Wine</th>\n",
              "      <th>Fish, Seafood</th>\n",
              "      <th>Animal Products</th>\n",
              "      <th>Vegetal Products</th>\n",
              "    </tr>\n",
              "    <tr>\n",
              "      <th>Confirmed Category</th>\n",
              "      <th></th>\n",
              "      <th></th>\n",
              "      <th></th>\n",
              "      <th></th>\n",
              "      <th></th>\n",
              "      <th></th>\n",
              "    </tr>\n",
              "  </thead>\n",
              "  <tbody>\n",
              "    <tr>\n",
              "      <th>Sangat Tidak Banyak</th>\n",
              "      <td>0.001558</td>\n",
              "      <td>0.812531</td>\n",
              "      <td>0.000040</td>\n",
              "      <td>1.000000</td>\n",
              "      <td>0.166138</td>\n",
              "      <td>0.833930</td>\n",
              "    </tr>\n",
              "    <tr>\n",
              "      <th>Tidak Banyak</th>\n",
              "      <td>0.000000</td>\n",
              "      <td>0.000000</td>\n",
              "      <td>1.000000</td>\n",
              "      <td>0.983712</td>\n",
              "      <td>0.000000</td>\n",
              "      <td>1.000000</td>\n",
              "    </tr>\n",
              "    <tr>\n",
              "      <th>Sedang</th>\n",
              "      <td>0.556714</td>\n",
              "      <td>0.811138</td>\n",
              "      <td>0.235420</td>\n",
              "      <td>0.590735</td>\n",
              "      <td>0.472611</td>\n",
              "      <td>0.527400</td>\n",
              "    </tr>\n",
              "    <tr>\n",
              "      <th>Cukup Banyak</th>\n",
              "      <td>0.998576</td>\n",
              "      <td>0.920284</td>\n",
              "      <td>0.288373</td>\n",
              "      <td>0.721509</td>\n",
              "      <td>0.883763</td>\n",
              "      <td>0.116198</td>\n",
              "    </tr>\n",
              "    <tr>\n",
              "      <th>Sangat Banyak</th>\n",
              "      <td>1.000000</td>\n",
              "      <td>1.000000</td>\n",
              "      <td>0.000000</td>\n",
              "      <td>0.000000</td>\n",
              "      <td>1.000000</td>\n",
              "      <td>0.000000</td>\n",
              "    </tr>\n",
              "  </tbody>\n",
              "</table>\n",
              "</div>"
            ],
            "text/plain": [
              "                      Obesity      Meat  ...  Animal Products  Vegetal Products\n",
              "Confirmed Category                       ...                                   \n",
              "Sangat Tidak Banyak  0.001558  0.812531  ...         0.166138          0.833930\n",
              "Tidak Banyak         0.000000  0.000000  ...         0.000000          1.000000\n",
              "Sedang               0.556714  0.811138  ...         0.472611          0.527400\n",
              "Cukup Banyak         0.998576  0.920284  ...         0.883763          0.116198\n",
              "Sangat Banyak        1.000000  1.000000  ...         1.000000          0.000000\n",
              "\n",
              "[5 rows x 6 columns]"
            ]
          },
          "metadata": {
            "tags": []
          }
        }
      ]
    },
    {
      "cell_type": "code",
      "metadata": {
        "id": "lMzOW9t7nU-I",
        "colab": {
          "base_uri": "https://localhost:8080/",
          "height": 727
        },
        "outputId": "c285a037-2f89-410b-e7dd-eb9364bf3b7d"
      },
      "source": [
        "# Buat bar plot dari df_norm sesuai dengan expected output\n",
        "fig,ax= plt.subplots(figsize=(15,10))\n",
        "x= np.arange(6)\n",
        "width = 0.1\n",
        "\n",
        "for i, j in enumerate (df_norm.T.columns):\n",
        "    ax.bar(x+(i*width), df_norm.T[j], width, label=j)\n",
        "\n",
        "plt.xticks(x+0.3, labels= df_norm.T.index)\n",
        "plt.title('Perbandingan Konsumsi Makanan Berdasarkan Tingkat  Kasus COID-19', fontsize= 18)\n",
        "\n",
        "plt.legend(loc=(0.95, 0.98))\n",
        "# Untuk menambahkan label di atas barplot lihat https://matplotlib.org/3.1.1/gallery/lines_bars_and_markers/barchart.html\n",
        "\n",
        "# def autolabel(rects):\n",
        "#     \"\"\"Attach a text label above each bar in *rects*, displaying its height.\"\"\"\n",
        "#     for rect in rects:\n",
        "#         height = rect.get_height()\n",
        "#         ax.annotate('{}'.format(height),\n",
        "#                     xy=(rect.get_x() + rect.get_width() / 2, height),\n",
        "#                     xytext=(0, 3),  # 3 points vertical offset\n",
        "#                     textcoords=\"offset points\",\n",
        "#                     ha='center', va='bottom')\n",
        "\n",
        "\n",
        "# autolabel(ax1.bar)\n",
        "# autolabel(axbar2)\n",
        "\n",
        "plt.tight_layout()\n",
        "plt.show()\n",
        "\n",
        "# fig.legend()\n",
        "# plt.show()"
      ],
      "execution_count": null,
      "outputs": [
        {
          "output_type": "display_data",
          "data": {
            "image/png": "[encoded data removed]",
            "text/plain": [
              "<Figure size 1080x720 with 1 Axes>"
            ]
          },
          "metadata": {
            "tags": [],
            "needs_background": "light"
          }
        }
      ]
    },
    {
      "cell_type": "markdown",
      "metadata": {
        "id": "KZJq0YxNp7bM"
      },
      "source": [
        "---"
      ]
    },
    {
      "cell_type": "markdown",
      "metadata": {
        "id": "LoJ9IXHBp890"
      },
      "source": [
        "# Soal 7: Seaborn Scatter plot\n"
      ]
    },
    {
      "cell_type": "markdown",
      "metadata": {
        "id": "5sQPxjyIrrkM"
      },
      "source": [
        "Buatlah visualisasi scatter plot (perpaduan seaborn dan matplotlib) dari df_food antara Supply Sayuran ('Vegetal Products') dan persentase terkonfirmasi ('Confirmed') COVID-19 sesuai expected output dengan ketentuan berikut:\n",
        "\n",
        "\n",
        "* Gunakan kolom persentase kematian ('Death') sebagai ukuran pointnya kalikan suatu angka yang cukup besar agar terlihat.\n",
        "    \n",
        "* Gunakan kolom persentase produk hewani ('Animal Products') sebagai warna point, berikan cmap 'plasma'.\n",
        "\n",
        "* Untuk seaborn gunakan regplot dengan argumen scatter=False dan color = 'black'"
      ]
    },
    {
      "cell_type": "code",
      "metadata": {
        "id": "8-nxlX2zp8Lw",
        "colab": {
          "base_uri": "https://localhost:8080/",
          "height": 728
        },
        "outputId": "d770533f-80fd-4b3d-98ee-f5c152b13dcf"
      },
      "source": [
        "import seaborn as sns\n",
        "fig, ax = plt.subplots(figsize=(12, 10))\n",
        "\n",
        "\n",
        "sns.scatterplot(data=df_food, x='Vegetal Products', y= 'Confirmed', hue= 'Animal Products', size='Deaths',\n",
        "                alpha= 0.5, sizes=(100, 7000), legend= False, cmap='plasma')\n",
        "\n",
        "sm= plt.cm.ScalarMappable(cmap=\"plasma\")\n",
        "ax = sns.regplot(data=df_food, x='Vegetal Products', y= 'Confirmed', scatter_kws={'alpha':0}, color='k')\n",
        "ax.figure.colorbar(sm)\n",
        "\n",
        "ax.set_title('Healthy Food and COVID-19', fontsize= 18)\n",
        "plt.tight_layout()\n",
        "plt.show()"
      ],
      "execution_count": null,
      "outputs": [
        {
          "output_type": "display_data",
          "data": {
            "image/png": "[encoded data removed]",
            "text/plain": [
              "<Figure size 864x720 with 2 Axes>"
            ]
          },
          "metadata": {
            "tags": [],
            "needs_background": "light"
          }
        }
      ]
    },
    {
      "cell_type": "code",
      "metadata": {
        "id": "2WTW7VZS3A09"
      },
      "source": [
        ""
      ],
      "execution_count": null,
      "outputs": []
    }
  ]
}