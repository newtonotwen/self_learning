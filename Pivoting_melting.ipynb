{
  "nbformat": 4,
  "nbformat_minor": 0,
  "metadata": {
    "colab": {
      "name": "Tugas Hari 3 Pekan 2 (1).ipynb",
      "provenance": [],
      "collapsed_sections": []
    },
    "kernelspec": {
      "display_name": "Python 3",
      "language": "python",
      "name": "python3"
    },
    "language_info": {
      "codemirror_mode": {
        "name": "ipython",
        "version": 3
      },
      "file_extension": ".py",
      "mimetype": "text/x-python",
      "name": "python",
      "nbconvert_exporter": "python",
      "pygments_lexer": "ipython3",
      "version": "3.8.5"
    }
  },
  "cells": [
    {
      "cell_type": "markdown",
      "metadata": {
        "id": "0kQhZ-5bKrxR"
      },
      "source": [
        "<h2>Soal 1: Pivoting and Melting</h2>\n",
        "\n",
        "Jelaskan itu pivoting dan melting data"
      ]
    },
    {
      "cell_type": "markdown",
      "metadata": {
        "id": "O7OpqeB9KrxX"
      },
      "source": [
        "jawaban:\n",
        "Pivoting adalah suatu pengubahan bentuk data dengan memutar data yang terletak di baris menjadi di column. \n",
        "sedangkan metling adalah kebalikan dari pivoting \n"
      ]
    },
    {
      "cell_type": "markdown",
      "metadata": {
        "id": "jImnOOlTKrxa"
      },
      "source": [
        "<h2>Soal 2: Data structure Comprehension</h2>\n",
        "\n",
        "Data yang rapi adalah:\n",
        "1. Setiap row menunjukan suatu unit observasi\n",
        "2. Setiap column merupakan suatu unit variable\n",
        "\n",
        "Bagaimana pun, dalam menentukan unit observasi itu tergantung dari kasus yang di hadapi. sebagai seorang data scientist pasti akan menemukan berbagai bentuk struktur data. adalah sangat penting bagi seorang data scientist untuk dapat memahami dan menjelaskan setiap struktur data. Kemampuan memahami hubungan antara index baris, column dan isi data adalah kunci untuk memahami informasi apa yang data sedang beritahukan kepada kita.\n",
        "\n",
        "Di bawah ini terdapat 2 data yang berisi sama, tetapi memiliki struktur yang berbeda. Jelaskan perbedaan dari 2 struktur data tersebut"
      ]
    },
    {
      "cell_type": "markdown",
      "metadata": {
        "id": "HYtZqGxLKrxc"
      },
      "source": [
        "![alt text](https://drive.google.com/uc?id=1h13CDPzIjc-2XyRcyu-p1fet0Ep1gdMA)"
      ]
    },
    {
      "cell_type": "markdown",
      "metadata": {
        "id": "nn4EuLbnKrxf"
      },
      "source": [
        "![alt text](https://drive.google.com/uc?id=12ji98ell5tNcCxeBzl4v8qqBtFMgDSr0)"
      ]
    },
    {
      "cell_type": "markdown",
      "metadata": {
        "id": "_fixNOUAKrxh"
      },
      "source": [
        "data pertama merupakan data yang telah di group melalui pivoting sedangkan data ke dua merupakan data mentah yang belum dilakukan grouping. data pertama memiliki indeks tipe pelajaran, sedangkan data kedua memiliki index 0 hingga 11."
      ]
    },
    {
      "cell_type": "markdown",
      "metadata": {
        "id": "Vxig2IeYKrxj"
      },
      "source": [
        "<h2>Soal 3: Reshaping Data 1</h2>"
      ]
    },
    {
      "cell_type": "code",
      "metadata": {
        "id": "4Jp7bLWNKrxl",
        "colab": {
          "base_uri": "https://localhost:8080/",
          "height": 407
        },
        "outputId": "d6225aea-a8d9-431b-a22d-d92ebf733fdb"
      },
      "source": [
        "import pandas as pd\n",
        "import random\n",
        "\n",
        "data = {\n",
        "    'Tipe Ujian' : ['UTS1', 'UAS1', 'UTS2', 'UAS2']*3,\n",
        "    'Mata Pelajaran' : ['Fisika']*4 + ['Matematika']*4+['Statistika']*4,\n",
        "    'Rata2 Waktu Belajar (menit)' : [random.choice(range(200, 800)) for i in range(12)],\n",
        "    'Rata2 Nilai Ujian' : [random.choice(range(40, 100)) for i in range(12)] \n",
        "}\n",
        "df = pd.DataFrame(data)\n",
        "df"
      ],
      "execution_count": null,
      "outputs": [
        {
          "output_type": "execute_result",
          "data": {
            "text/html": [
              "<div>\n",
              "<style scoped>\n",
              "    .dataframe tbody tr th:only-of-type {\n",
              "        vertical-align: middle;\n",
              "    }\n",
              "\n",
              "    .dataframe tbody tr th {\n",
              "        vertical-align: top;\n",
              "    }\n",
              "\n",
              "    .dataframe thead th {\n",
              "        text-align: right;\n",
              "    }\n",
              "</style>\n",
              "<table border=\"1\" class=\"dataframe\">\n",
              "  <thead>\n",
              "    <tr style=\"text-align: right;\">\n",
              "      <th></th>\n",
              "      <th>Tipe Ujian</th>\n",
              "      <th>Mata Pelajaran</th>\n",
              "      <th>Rata2 Waktu Belajar (menit)</th>\n",
              "      <th>Rata2 Nilai Ujian</th>\n",
              "    </tr>\n",
              "  </thead>\n",
              "  <tbody>\n",
              "    <tr>\n",
              "      <th>0</th>\n",
              "      <td>UTS1</td>\n",
              "      <td>Fisika</td>\n",
              "      <td>223</td>\n",
              "      <td>85</td>\n",
              "    </tr>\n",
              "    <tr>\n",
              "      <th>1</th>\n",
              "      <td>UAS1</td>\n",
              "      <td>Fisika</td>\n",
              "      <td>497</td>\n",
              "      <td>50</td>\n",
              "    </tr>\n",
              "    <tr>\n",
              "      <th>2</th>\n",
              "      <td>UTS2</td>\n",
              "      <td>Fisika</td>\n",
              "      <td>709</td>\n",
              "      <td>65</td>\n",
              "    </tr>\n",
              "    <tr>\n",
              "      <th>3</th>\n",
              "      <td>UAS2</td>\n",
              "      <td>Fisika</td>\n",
              "      <td>294</td>\n",
              "      <td>75</td>\n",
              "    </tr>\n",
              "    <tr>\n",
              "      <th>4</th>\n",
              "      <td>UTS1</td>\n",
              "      <td>Matematika</td>\n",
              "      <td>598</td>\n",
              "      <td>92</td>\n",
              "    </tr>\n",
              "    <tr>\n",
              "      <th>5</th>\n",
              "      <td>UAS1</td>\n",
              "      <td>Matematika</td>\n",
              "      <td>599</td>\n",
              "      <td>73</td>\n",
              "    </tr>\n",
              "    <tr>\n",
              "      <th>6</th>\n",
              "      <td>UTS2</td>\n",
              "      <td>Matematika</td>\n",
              "      <td>497</td>\n",
              "      <td>91</td>\n",
              "    </tr>\n",
              "    <tr>\n",
              "      <th>7</th>\n",
              "      <td>UAS2</td>\n",
              "      <td>Matematika</td>\n",
              "      <td>592</td>\n",
              "      <td>86</td>\n",
              "    </tr>\n",
              "    <tr>\n",
              "      <th>8</th>\n",
              "      <td>UTS1</td>\n",
              "      <td>Statistika</td>\n",
              "      <td>628</td>\n",
              "      <td>85</td>\n",
              "    </tr>\n",
              "    <tr>\n",
              "      <th>9</th>\n",
              "      <td>UAS1</td>\n",
              "      <td>Statistika</td>\n",
              "      <td>300</td>\n",
              "      <td>52</td>\n",
              "    </tr>\n",
              "    <tr>\n",
              "      <th>10</th>\n",
              "      <td>UTS2</td>\n",
              "      <td>Statistika</td>\n",
              "      <td>419</td>\n",
              "      <td>85</td>\n",
              "    </tr>\n",
              "    <tr>\n",
              "      <th>11</th>\n",
              "      <td>UAS2</td>\n",
              "      <td>Statistika</td>\n",
              "      <td>541</td>\n",
              "      <td>76</td>\n",
              "    </tr>\n",
              "  </tbody>\n",
              "</table>\n",
              "</div>"
            ],
            "text/plain": [
              "   Tipe Ujian Mata Pelajaran  Rata2 Waktu Belajar (menit)  Rata2 Nilai Ujian\n",
              "0        UTS1         Fisika                          223                 85\n",
              "1        UAS1         Fisika                          497                 50\n",
              "2        UTS2         Fisika                          709                 65\n",
              "3        UAS2         Fisika                          294                 75\n",
              "4        UTS1     Matematika                          598                 92\n",
              "5        UAS1     Matematika                          599                 73\n",
              "6        UTS2     Matematika                          497                 91\n",
              "7        UAS2     Matematika                          592                 86\n",
              "8        UTS1     Statistika                          628                 85\n",
              "9        UAS1     Statistika                          300                 52\n",
              "10       UTS2     Statistika                          419                 85\n",
              "11       UAS2     Statistika                          541                 76"
            ]
          },
          "metadata": {
            "tags": []
          },
          "execution_count": 4
        }
      ]
    },
    {
      "cell_type": "markdown",
      "metadata": {
        "id": "G3yKJFwTKrx8"
      },
      "source": [
        "Perhatikan data di atas, kemudian ubahlah bentuknya agar sesuai yang di harapkan."
      ]
    },
    {
      "cell_type": "code",
      "metadata": {
        "id": "ztFDyKDYKrx-",
        "colab": {
          "base_uri": "https://localhost:8080/",
          "height": 227
        },
        "outputId": "c6fdfe2d-3ab1-4fa9-a760-a5766aa5e2f0"
      },
      "source": [
        "# code here\n",
        "pivot_df= pivot_df = pd.pivot(df, index='Tipe Ujian', columns='Mata Pelajaran', values=['Rata2 Nilai Ujian', 'Rata2 Waktu Belajar (menit)'])\n",
        "pivot_df"
      ],
      "execution_count": null,
      "outputs": [
        {
          "output_type": "execute_result",
          "data": {
            "text/html": [
              "<div>\n",
              "<style scoped>\n",
              "    .dataframe tbody tr th:only-of-type {\n",
              "        vertical-align: middle;\n",
              "    }\n",
              "\n",
              "    .dataframe tbody tr th {\n",
              "        vertical-align: top;\n",
              "    }\n",
              "\n",
              "    .dataframe thead tr th {\n",
              "        text-align: left;\n",
              "    }\n",
              "\n",
              "    .dataframe thead tr:last-of-type th {\n",
              "        text-align: right;\n",
              "    }\n",
              "</style>\n",
              "<table border=\"1\" class=\"dataframe\">\n",
              "  <thead>\n",
              "    <tr>\n",
              "      <th></th>\n",
              "      <th colspan=\"3\" halign=\"left\">Rata2 Nilai Ujian</th>\n",
              "      <th colspan=\"3\" halign=\"left\">Rata2 Waktu Belajar (menit)</th>\n",
              "    </tr>\n",
              "    <tr>\n",
              "      <th>Mata Pelajaran</th>\n",
              "      <th>Fisika</th>\n",
              "      <th>Matematika</th>\n",
              "      <th>Statistika</th>\n",
              "      <th>Fisika</th>\n",
              "      <th>Matematika</th>\n",
              "      <th>Statistika</th>\n",
              "    </tr>\n",
              "    <tr>\n",
              "      <th>Tipe Ujian</th>\n",
              "      <th></th>\n",
              "      <th></th>\n",
              "      <th></th>\n",
              "      <th></th>\n",
              "      <th></th>\n",
              "      <th></th>\n",
              "    </tr>\n",
              "  </thead>\n",
              "  <tbody>\n",
              "    <tr>\n",
              "      <th>UAS1</th>\n",
              "      <td>50</td>\n",
              "      <td>73</td>\n",
              "      <td>52</td>\n",
              "      <td>497</td>\n",
              "      <td>599</td>\n",
              "      <td>300</td>\n",
              "    </tr>\n",
              "    <tr>\n",
              "      <th>UAS2</th>\n",
              "      <td>75</td>\n",
              "      <td>86</td>\n",
              "      <td>76</td>\n",
              "      <td>294</td>\n",
              "      <td>592</td>\n",
              "      <td>541</td>\n",
              "    </tr>\n",
              "    <tr>\n",
              "      <th>UTS1</th>\n",
              "      <td>85</td>\n",
              "      <td>92</td>\n",
              "      <td>85</td>\n",
              "      <td>223</td>\n",
              "      <td>598</td>\n",
              "      <td>628</td>\n",
              "    </tr>\n",
              "    <tr>\n",
              "      <th>UTS2</th>\n",
              "      <td>65</td>\n",
              "      <td>91</td>\n",
              "      <td>85</td>\n",
              "      <td>709</td>\n",
              "      <td>497</td>\n",
              "      <td>419</td>\n",
              "    </tr>\n",
              "  </tbody>\n",
              "</table>\n",
              "</div>"
            ],
            "text/plain": [
              "               Rata2 Nilai Ujian             ... Rata2 Waktu Belajar (menit)           \n",
              "Mata Pelajaran            Fisika Matematika  ...                  Matematika Statistika\n",
              "Tipe Ujian                                   ...                                       \n",
              "UAS1                          50         73  ...                         599        300\n",
              "UAS2                          75         86  ...                         592        541\n",
              "UTS1                          85         92  ...                         598        628\n",
              "UTS2                          65         91  ...                         497        419\n",
              "\n",
              "[4 rows x 6 columns]"
            ]
          },
          "metadata": {
            "tags": []
          },
          "execution_count": 5
        }
      ]
    },
    {
      "cell_type": "markdown",
      "metadata": {
        "id": "pXb8LRDWKryQ"
      },
      "source": [
        "<h2>Soal 4: Reshaping Data 2</h2>"
      ]
    },
    {
      "cell_type": "code",
      "metadata": {
        "id": "LHe2XZyNKryS",
        "colab": {
          "base_uri": "https://localhost:8080/",
          "height": 287
        },
        "outputId": "79c6c0f7-4f71-4d86-d1a5-3dfad9beffa8"
      },
      "source": [
        "import pandas as pd\n",
        "\n",
        "data = {\n",
        "    'Hari' : ['Sabtu', 'Minggu'],\n",
        "    'Kebun Binatang' : [271, 399],\n",
        "    'Dufan' : [501, 700],\n",
        "    'Disney' : [1000, 1001],\n",
        "    'Bali' : [900, 803]\n",
        "}\n",
        "df = pd.DataFrame(data)\n",
        "\n",
        "df2= pd.melt(df, id_vars =['Hari'],value_vars =['Kebun Binatang', 'Dufan','Disney','Bali']) \n",
        "df2"
      ],
      "execution_count": null,
      "outputs": [
        {
          "output_type": "execute_result",
          "data": {
            "text/html": [
              "<div>\n",
              "<style scoped>\n",
              "    .dataframe tbody tr th:only-of-type {\n",
              "        vertical-align: middle;\n",
              "    }\n",
              "\n",
              "    .dataframe tbody tr th {\n",
              "        vertical-align: top;\n",
              "    }\n",
              "\n",
              "    .dataframe thead th {\n",
              "        text-align: right;\n",
              "    }\n",
              "</style>\n",
              "<table border=\"1\" class=\"dataframe\">\n",
              "  <thead>\n",
              "    <tr style=\"text-align: right;\">\n",
              "      <th></th>\n",
              "      <th>Hari</th>\n",
              "      <th>variable</th>\n",
              "      <th>value</th>\n",
              "    </tr>\n",
              "  </thead>\n",
              "  <tbody>\n",
              "    <tr>\n",
              "      <th>0</th>\n",
              "      <td>Sabtu</td>\n",
              "      <td>Kebun Binatang</td>\n",
              "      <td>271</td>\n",
              "    </tr>\n",
              "    <tr>\n",
              "      <th>1</th>\n",
              "      <td>Minggu</td>\n",
              "      <td>Kebun Binatang</td>\n",
              "      <td>399</td>\n",
              "    </tr>\n",
              "    <tr>\n",
              "      <th>2</th>\n",
              "      <td>Sabtu</td>\n",
              "      <td>Dufan</td>\n",
              "      <td>501</td>\n",
              "    </tr>\n",
              "    <tr>\n",
              "      <th>3</th>\n",
              "      <td>Minggu</td>\n",
              "      <td>Dufan</td>\n",
              "      <td>700</td>\n",
              "    </tr>\n",
              "    <tr>\n",
              "      <th>4</th>\n",
              "      <td>Sabtu</td>\n",
              "      <td>Disney</td>\n",
              "      <td>1000</td>\n",
              "    </tr>\n",
              "    <tr>\n",
              "      <th>5</th>\n",
              "      <td>Minggu</td>\n",
              "      <td>Disney</td>\n",
              "      <td>1001</td>\n",
              "    </tr>\n",
              "    <tr>\n",
              "      <th>6</th>\n",
              "      <td>Sabtu</td>\n",
              "      <td>Bali</td>\n",
              "      <td>900</td>\n",
              "    </tr>\n",
              "    <tr>\n",
              "      <th>7</th>\n",
              "      <td>Minggu</td>\n",
              "      <td>Bali</td>\n",
              "      <td>803</td>\n",
              "    </tr>\n",
              "  </tbody>\n",
              "</table>\n",
              "</div>"
            ],
            "text/plain": [
              "     Hari        variable  value\n",
              "0   Sabtu  Kebun Binatang    271\n",
              "1  Minggu  Kebun Binatang    399\n",
              "2   Sabtu           Dufan    501\n",
              "3  Minggu           Dufan    700\n",
              "4   Sabtu          Disney   1000\n",
              "5  Minggu          Disney   1001\n",
              "6   Sabtu            Bali    900\n",
              "7  Minggu            Bali    803"
            ]
          },
          "metadata": {
            "tags": []
          },
          "execution_count": 7
        }
      ]
    },
    {
      "cell_type": "markdown",
      "metadata": {
        "id": "w87S4Xl_Kryg"
      },
      "source": [
        "diatas adalah data tentang jumlah pengunjung di berbagai tempat hiburan, ubahlah struktur data tersebut sehingga sesuai dengan hasil yang diharapkan."
      ]
    },
    {
      "cell_type": "markdown",
      "metadata": {
        "id": "d7_5dDsRKryi"
      },
      "source": [
        "Expected Result:\n",
        "\n",
        "![alt text](https://drive.google.com/uc?id=159mIqcyfeD30EEcyZmmkovORa6cZDLtn)"
      ]
    },
    {
      "cell_type": "markdown",
      "metadata": {
        "id": "GGHgeYkEKryk"
      },
      "source": [
        "<h2>Soal 5: Pivoting and Aggregating</h2>"
      ]
    },
    {
      "cell_type": "code",
      "metadata": {
        "id": "iKMM155KKryn",
        "colab": {
          "base_uri": "https://localhost:8080/",
          "height": 137
        },
        "outputId": "57b2c826-a74c-4402-fd8e-b622e1c6c1bd"
      },
      "source": [
        "import pandas as pd\n",
        "\n",
        "data = {\n",
        "    'Tipe Ujian' : ['UTS1', 'UAS1']*3,\n",
        "    'Mata Pelajaran' :['Statistika', 'Fisika', 'Fisika', 'Statistika', 'Fisika', 'Statistika'],\n",
        "    'Jumlah Peserta' : [14, 17, 12, 16, 14, 13]\n",
        "}\n",
        "df = pd.DataFrame(data)\n",
        "pivot_df_table= pivot_df = pd.pivot_table(df, index='Tipe Ujian', columns='Mata Pelajaran', values='Jumlah Peserta', aggfunc='sum')\n",
        "pivot_df_table"
      ],
      "execution_count": null,
      "outputs": [
        {
          "output_type": "execute_result",
          "data": {
            "text/html": [
              "<div>\n",
              "<style scoped>\n",
              "    .dataframe tbody tr th:only-of-type {\n",
              "        vertical-align: middle;\n",
              "    }\n",
              "\n",
              "    .dataframe tbody tr th {\n",
              "        vertical-align: top;\n",
              "    }\n",
              "\n",
              "    .dataframe thead th {\n",
              "        text-align: right;\n",
              "    }\n",
              "</style>\n",
              "<table border=\"1\" class=\"dataframe\">\n",
              "  <thead>\n",
              "    <tr style=\"text-align: right;\">\n",
              "      <th>Mata Pelajaran</th>\n",
              "      <th>Fisika</th>\n",
              "      <th>Statistika</th>\n",
              "    </tr>\n",
              "    <tr>\n",
              "      <th>Tipe Ujian</th>\n",
              "      <th></th>\n",
              "      <th></th>\n",
              "    </tr>\n",
              "  </thead>\n",
              "  <tbody>\n",
              "    <tr>\n",
              "      <th>UAS1</th>\n",
              "      <td>17</td>\n",
              "      <td>29</td>\n",
              "    </tr>\n",
              "    <tr>\n",
              "      <th>UTS1</th>\n",
              "      <td>26</td>\n",
              "      <td>14</td>\n",
              "    </tr>\n",
              "  </tbody>\n",
              "</table>\n",
              "</div>"
            ],
            "text/plain": [
              "Mata Pelajaran  Fisika  Statistika\n",
              "Tipe Ujian                        \n",
              "UAS1                17          29\n",
              "UTS1                26          14"
            ]
          },
          "metadata": {
            "tags": []
          },
          "execution_count": 2
        }
      ]
    },
    {
      "cell_type": "code",
      "metadata": {
        "id": "dtuNAZ8uxIag"
      },
      "source": [
        ""
      ],
      "execution_count": null,
      "outputs": []
    }
  ]
}