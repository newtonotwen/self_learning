{
  "nbformat": 4,
  "nbformat_minor": 5,
  "metadata": {
    "kernelspec": {
      "display_name": "Python 3",
      "language": "python",
      "name": "python3"
    },
    "language_info": {
      "codemirror_mode": {
        "name": "ipython",
        "version": 3
      },
      "file_extension": ".py",
      "mimetype": "text/x-python",
      "name": "python",
      "nbconvert_exporter": "python",
      "pygments_lexer": "ipython3",
      "version": "3.9.1"
    },
    "colab": {
      "name": "Assignment 1.ipynb",
      "provenance": []
    }
  },
  "cells": [
    {
      "cell_type": "code",
      "metadata": {
        "id": "fantastic-poultry"
      },
      "source": [
        "import numpy as np"
      ],
      "id": "fantastic-poultry",
      "execution_count": null,
      "outputs": []
    },
    {
      "cell_type": "markdown",
      "metadata": {
        "id": "funny-zimbabwe"
      },
      "source": [
        " 1. Create a 5x5 matrix with values ranging from 3 to 7"
      ],
      "id": "funny-zimbabwe"
    },
    {
      "cell_type": "code",
      "metadata": {
        "scrolled": true,
        "id": "surface-publicity",
        "outputId": "bbec81a0-d274-46cf-f5f6-8ee4906d8ed4"
      },
      "source": [
        "a = np.zeros([5,5])\n",
        "\n",
        "a"
      ],
      "id": "surface-publicity",
      "execution_count": null,
      "outputs": [
        {
          "output_type": "execute_result",
          "data": {
            "text/plain": [
              "array([[0., 0., 0., 0., 0.],\n",
              "       [0., 0., 0., 0., 0.],\n",
              "       [0., 0., 0., 0., 0.],\n",
              "       [0., 0., 0., 0., 0.],\n",
              "       [0., 0., 0., 0., 0.]])"
            ]
          },
          "metadata": {
            "tags": []
          },
          "execution_count": 3
        }
      ]
    },
    {
      "cell_type": "code",
      "metadata": {
        "scrolled": true,
        "id": "every-habitat",
        "outputId": "bd48ea86-7771-4126-e5db-e1e9f98de6e6"
      },
      "source": [
        "A = np.arange(3,8)\n",
        "\n",
        "A"
      ],
      "id": "every-habitat",
      "execution_count": null,
      "outputs": [
        {
          "output_type": "execute_result",
          "data": {
            "text/plain": [
              "array([3, 4, 5, 6, 7])"
            ]
          },
          "metadata": {
            "tags": []
          },
          "execution_count": 4
        }
      ]
    },
    {
      "cell_type": "code",
      "metadata": {
        "scrolled": true,
        "id": "committed-update",
        "outputId": "ca1e3d38-8374-4dc3-ee8e-8372364fe039"
      },
      "source": [
        "for i in range(0,1):\n",
        "    print(a+A)  "
      ],
      "id": "committed-update",
      "execution_count": null,
      "outputs": [
        {
          "output_type": "stream",
          "text": [
            "[[3. 4. 5. 6. 7.]\n",
            " [3. 4. 5. 6. 7.]\n",
            " [3. 4. 5. 6. 7.]\n",
            " [3. 4. 5. 6. 7.]\n",
            " [3. 4. 5. 6. 7.]]\n"
          ],
          "name": "stdout"
        }
      ]
    },
    {
      "cell_type": "markdown",
      "metadata": {
        "id": "annoying-tackle"
      },
      "source": [
        "2. Create and array with shape of 4x4 and turn it into two arrays along the second axis"
      ],
      "id": "annoying-tackle"
    },
    {
      "cell_type": "code",
      "metadata": {
        "id": "emerging-pregnancy",
        "outputId": "25b1e581-46c4-45db-cdbc-edb8bb796163"
      },
      "source": [
        "A = np.array([[1,2,3,4],[5,6,7,8],[9,10,11,12],[13,14,15,16]])\n",
        "\n",
        "A"
      ],
      "id": "emerging-pregnancy",
      "execution_count": null,
      "outputs": [
        {
          "output_type": "execute_result",
          "data": {
            "text/plain": [
              "array([[ 1,  2,  3,  4],\n",
              "       [ 5,  6,  7,  8],\n",
              "       [ 9, 10, 11, 12],\n",
              "       [13, 14, 15, 16]])"
            ]
          },
          "metadata": {
            "tags": []
          },
          "execution_count": 15
        }
      ]
    },
    {
      "cell_type": "code",
      "metadata": {
        "id": "brilliant-shower"
      },
      "source": [
        "Z = np.hsplit(A,2)"
      ],
      "id": "brilliant-shower",
      "execution_count": null,
      "outputs": []
    },
    {
      "cell_type": "code",
      "metadata": {
        "id": "strategic-mason",
        "outputId": "1d160e6c-fd9b-43c6-b732-5abb499ac6e2"
      },
      "source": [
        "Z"
      ],
      "id": "strategic-mason",
      "execution_count": null,
      "outputs": [
        {
          "output_type": "execute_result",
          "data": {
            "text/plain": [
              "[array([[ 1,  2],\n",
              "        [ 5,  6],\n",
              "        [ 9, 10],\n",
              "        [13, 14]]),\n",
              " array([[ 3,  4],\n",
              "        [ 7,  8],\n",
              "        [11, 12],\n",
              "        [15, 16]])]"
            ]
          },
          "metadata": {
            "tags": []
          },
          "execution_count": 17
        }
      ]
    },
    {
      "cell_type": "code",
      "metadata": {
        "id": "subjective-canberra"
      },
      "source": [
        ""
      ],
      "id": "subjective-canberra",
      "execution_count": null,
      "outputs": []
    }
  ]
}